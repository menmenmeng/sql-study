{
 "cells": [
  {
   "cell_type": "markdown",
   "metadata": {},
   "source": [
    "### Excel과 Pandas, Numpy 라이브러리를 이용해 사용할 데이터를 생성"
   ]
  },
  {
   "cell_type": "code",
   "execution_count": 2,
   "metadata": {},
   "outputs": [],
   "source": [
    "import pandas as pd\n",
    "import numpy as np"
   ]
  },
  {
   "cell_type": "markdown",
   "metadata": {},
   "source": [
    "#### 1. Excel 데이터를 SQL Query 문법에 맞는 코드로 변환하여 MySQL WorkBench에 복사&붙여넣기"
   ]
  },
  {
   "cell_type": "code",
   "execution_count": 127,
   "metadata": {},
   "outputs": [
    {
     "name": "stdout",
     "output_type": "stream",
     "text": [
      "INSERT INTO USER VALUES (1, 'sinatrasinatra', '2021-07-04');\n",
      "INSERT INTO USER VALUES (2, 'armstrong111', '2021-07-21');\n",
      "INSERT INTO USER VALUES (3, 'colkingnat', '2021-08-28');\n",
      "INSERT INTO USER VALUES (4, '20bennett', '2021-08-29');\n",
      "INSERT INTO USER VALUES (5, 'jamesbobby', '2021-09-03');\n",
      "INSERT INTO USER VALUES (6, '4_play', '2021-09-09');\n",
      "INSERT INTO USER VALUES (7, 'GeorgeBenson', '2021-09-20');\n",
      "INSERT INTO USER VALUES (8, 'aluminumeola', '2021-10-01');\n",
      "INSERT INTO USER VALUES (9, 'mason0409', '2021-10-11');\n",
      "INSERT INTO USER VALUES (10, 'jackson251', '2021-10-13');\n"
     ]
    }
   ],
   "source": [
    "User = pd.read_excel('InsertData.xlsx', sheet_name='User', header=0)\n",
    "\n",
    "for i in range(len(User)):\n",
    "    row = User.iloc[i, :].tolist()\n",
    "    for idx in range(len(row)):\n",
    "        if str(type(row[idx])) == \"<class 'pandas._libs.tslibs.timestamps.Timestamp'>\":\n",
    "            new_factor = str(row[idx]).split()[0]\n",
    "            row[idx] = new_factor          \n",
    "    print('INSERT INTO USER VALUES ', tuple(row), ';', sep='')"
   ]
  },
  {
   "cell_type": "code",
   "execution_count": 128,
   "metadata": {},
   "outputs": [
    {
     "name": "stdout",
     "output_type": "stream",
     "text": [
      "INSERT INTO CLASS VALUES (1, 'Worrier', 10, 10, 1, 1, 1, 10, 5);\n",
      "INSERT INTO CLASS VALUES (2, 'Magician', 1, 1, 10, 10, 3, 3, 10);\n",
      "INSERT INTO CLASS VALUES (3, 'Archer', 5, 4, 5, 4, 10, 5, 5);\n",
      "INSERT INTO CLASS VALUES (4, 'Blacksmith', 4, 4, 4, 4, 10, 8, 4);\n"
     ]
    }
   ],
   "source": [
    "Class = pd.read_excel('InsertData.xlsx', sheet_name='Class', header=0)\n",
    "\n",
    "for i in range(len(Class)):\n",
    "    row = Class.iloc[i, :].tolist()\n",
    "    for idx in range(len(row)):\n",
    "        if str(type(row[idx])) == \"<class 'pandas._libs.tslibs.timestamps.Timestamp'>\":\n",
    "            new_factor = str(row[idx]).split()[0]\n",
    "            row[idx] = new_factor          \n",
    "    print('INSERT INTO CLASS VALUES ', tuple(row), ';', sep='')"
   ]
  },
  {
   "cell_type": "code",
   "execution_count": 4,
   "metadata": {},
   "outputs": [
    {
     "name": "stdout",
     "output_type": "stream",
     "text": [
      "INSERT INTO USER_CHARACTER\n",
      "\t(CharacterID, UserID, UserCharacterID, ClassID, DateCreated)\n",
      "\tVALUES (1, 1, 1, 1, '2021-07-04');\n",
      "INSERT INTO USER_CHARACTER\n",
      "\t(CharacterID, UserID, UserCharacterID, ClassID, DateCreated)\n",
      "\tVALUES (2, 1, 2, 4, '2021-07-06');\n",
      "INSERT INTO USER_CHARACTER\n",
      "\t(CharacterID, UserID, UserCharacterID, ClassID, DateCreated)\n",
      "\tVALUES (3, 1, 3, 2, '2021-09-09');\n",
      "INSERT INTO USER_CHARACTER\n",
      "\t(CharacterID, UserID, UserCharacterID, ClassID, DateCreated)\n",
      "\tVALUES (4, 1, 4, 3, '2021-10-11');\n",
      "INSERT INTO USER_CHARACTER\n",
      "\t(CharacterID, UserID, UserCharacterID, ClassID, DateCreated)\n",
      "\tVALUES (5, 1, 5, 4, '2021-12-10');\n",
      "INSERT INTO USER_CHARACTER\n",
      "\t(CharacterID, UserID, UserCharacterID, ClassID, DateCreated)\n",
      "\tVALUES (6, 1, 6, 4, '2021-12-10');\n",
      "INSERT INTO USER_CHARACTER\n",
      "\t(CharacterID, UserID, UserCharacterID, ClassID, DateCreated)\n",
      "\tVALUES (7, 2, 1, 2, '2021-07-21');\n",
      "INSERT INTO USER_CHARACTER\n",
      "\t(CharacterID, UserID, UserCharacterID, ClassID, DateCreated)\n",
      "\tVALUES (8, 2, 2, 1, '2021-11-25');\n",
      "INSERT INTO USER_CHARACTER\n",
      "\t(CharacterID, UserID, UserCharacterID, ClassID, DateCreated)\n",
      "\tVALUES (9, 3, 1, 1, '2021-08-28');\n",
      "INSERT INTO USER_CHARACTER\n",
      "\t(CharacterID, UserID, UserCharacterID, ClassID, DateCreated)\n",
      "\tVALUES (10, 4, 1, 1, '2021-08-29');\n",
      "INSERT INTO USER_CHARACTER\n",
      "\t(CharacterID, UserID, UserCharacterID, ClassID, DateCreated)\n",
      "\tVALUES (11, 5, 1, 1, '2021-09-03');\n",
      "INSERT INTO USER_CHARACTER\n",
      "\t(CharacterID, UserID, UserCharacterID, ClassID, DateCreated)\n",
      "\tVALUES (12, 5, 2, 2, '2021-10-25');\n",
      "INSERT INTO USER_CHARACTER\n",
      "\t(CharacterID, UserID, UserCharacterID, ClassID, DateCreated)\n",
      "\tVALUES (13, 6, 1, 3, '2021-09-09');\n",
      "INSERT INTO USER_CHARACTER\n",
      "\t(CharacterID, UserID, UserCharacterID, ClassID, DateCreated)\n",
      "\tVALUES (14, 7, 1, 1, '2021-09-20');\n",
      "INSERT INTO USER_CHARACTER\n",
      "\t(CharacterID, UserID, UserCharacterID, ClassID, DateCreated)\n",
      "\tVALUES (15, 8, 1, 3, '2021-10-01');\n",
      "INSERT INTO USER_CHARACTER\n",
      "\t(CharacterID, UserID, UserCharacterID, ClassID, DateCreated)\n",
      "\tVALUES (16, 9, 1, 4, '2021-10-11');\n",
      "INSERT INTO USER_CHARACTER\n",
      "\t(CharacterID, UserID, UserCharacterID, ClassID, DateCreated)\n",
      "\tVALUES (17, 9, 2, 3, '2021-10-14');\n"
     ]
    }
   ],
   "source": [
    "UserCharacter = pd.read_excel('InsertData.xlsx', sheet_name='UserCharacter', header=0)\n",
    "\n",
    "for i in range(len(UserCharacter)):\n",
    "    row = UserCharacter.iloc[i, :].tolist()\n",
    "    for idx in range(len(row)):\n",
    "        if str(type(row[idx])) == \"<class 'pandas._libs.tslibs.timestamps.Timestamp'>\":\n",
    "            new_factor = str(row[idx]).split()[0]\n",
    "            row[idx] = new_factor          \n",
    "    print('INSERT INTO USER_CHARACTER')\n",
    "    print('\\t(CharacterID, UserID, UserCharacterID, ClassID, DateCreated)')\n",
    "    print('\\tVALUES ', tuple(row), ';', sep='')"
   ]
  },
  {
   "cell_type": "markdown",
   "metadata": {},
   "source": [
    "print 함수를 통해 출력된 INSERT문은 프로젝트 폴더의 Insert Data.sql 파일에서 사용합니다."
   ]
  },
  {
   "cell_type": "markdown",
   "metadata": {},
   "source": [
    "#### 2. 삽입된 User, Class, User_Character 데이터를 바탕으로 조건에 부합하는 적당한 Character_Connect, Character_Payment 데이터 생성\n",
    "---\n",
    "- Character_Connect\n",
    "  - ConnectID(PK), CharacterID(FK), ConnectTime(접속한 시간), ConnectDate(접속 날짜)\n",
    "  - 게임 내의 모든 캐릭터에 대해, 그 캐릭터가 생성된 날짜부터 현재까지의 접속 내역을 보여주는 테이블\n",
    "  - 캐릭터의 마지막 접속 날짜를 임의로 가정한 뒤, 접속 내역을 무작위로 생성하는 절차를 통해 예시 데이터를 만들었다.\n",
    "  - 캐릭터의 생성 날짜와 마지막 접속 날짜와의 시간 차를 바탕으로, 차이가 클수록 더 많이 접속했을 가능성이 높도록 데이터를 생성했다.\n",
    "---\n",
    "- Character_Payment\n",
    "  - PaymentID(PK), CharacterID(FK), Payment(결제한 금액), PayDate(결제 날짜)\n",
    "  - 게임 내의 모든 캐릭터에 대해, 그 캐릭터가 생성된 날짜부터 현재까지의 현금결제 내역을 보여주는 테이블\n",
    "  - 마찬가지로 캐릭터의 마지막 접속 날짜를 임의로 가정한 뒤, 결제 내역을 무작위로 생성하였다.\n",
    "  - 캐릭터의 생성 날짜와 마지막 접속 날짜와의 시간 차를 바탕으로, 차이가 클수록 더 많이 게임에 현금결제를 했을 가능성이 높도록 데이터를 생성했다."
   ]
  },
  {
   "cell_type": "code",
   "execution_count": 49,
   "metadata": {},
   "outputs": [],
   "source": [
    "# 빈 데이터프레임 생성\n",
    "ConnectDf = pd.DataFrame()\n",
    "PaymentDf = pd.DataFrame()\n",
    "\n",
    "# UserCharacter의 모든 Character에 대해, 적당한 Connect, Payment 데이터를 생성할 것.\n",
    "for i in range(len(UserCharacter)):\n",
    "    row = UserCharacter.iloc[i, :].tolist()\n",
    "\n",
    "    # 각 Character의 ID와 Character가 생성된 날짜\n",
    "    CharacterID, DateCreated = row[0], row[4]\n",
    "\n",
    "    # ConnectDf의 ConnectDate는 항상 DateCreated(Character가 생성된 날짜)보다 커야 한다.\n",
    "    # LastConnectDate가 될 수 있는 여러 Timestamp중, 현재 character ID의 생성 날짜보다 더 뒤의 Timestamp를 고른다.\n",
    "    LastConnectDateCandidates = [\n",
    "        pd.Timestamp(2021, 12, 14),\n",
    "        pd.Timestamp(2021, 12, 10),\n",
    "        pd.Timestamp(2021, 12, 7),\n",
    "        pd.Timestamp(2021, 12, 3),\n",
    "        pd.Timestamp(2021, 12, 1),\n",
    "        pd.Timestamp(2021, 11, 30),\n",
    "        pd.Timestamp(2021, 11, 23),\n",
    "        pd.Timestamp(2021, 11, 15),\n",
    "        pd.Timestamp(2021, 11, 8),\n",
    "        pd.Timestamp(2021, 11, 1),\n",
    "    ]\n",
    "    ChoiceList = list(filter(lambda x: DateCreated < x, LastConnectDateCandidates))\n",
    "    LastConnectDate = np.random.choice(ChoiceList)\n",
    "\n",
    "    # 고른 LastConnectDate와 DateCreated간의 차이를 day로 나타낸다.\n",
    "    day_gap = (LastConnectDate - DateCreated).total_seconds()/3600/24\n",
    "\n",
    "    # 몇 번 접속했는지를 Random하게 정해주기 위해, 캐릭터 생성 날짜부터 마지막 접속일까지의 시간 차를 바탕으로\n",
    "    # 접속 횟수 하한과 상한을 설정한다.\n",
    "    # 생성 날짜부터 마지막 접속일까지 150일일 경우, 가장 낮은 접속 횟수는 30번, 가장 높은 접속 횟수는 60번을 가정\n",
    "    # 생성 날짜부터 마지막 접속일까지 1일일 경우, 가장 낮은 접속 횟수 0, 가장 높은 접속 횟수가 1번이라고 가정\n",
    "    # day gap이 증가할수록 선형적으로 증가하도록 함\n",
    "    # low의 경우 (150, 30), (1, 0)을 잇는 직선을, high의 경우 (150, 60), (1, 1)을 잇는 직선을 그린 것과 마찬가지\n",
    "    low_freq = np.trunc((30-1)/(150-1) * (day_gap - 1) + 1)\n",
    "    high_freq = np.trunc((60-1)/(150-1) * (day_gap - 1) + 1)\n",
    "\n",
    "    # 마찬가지로, 몇 번 결제했는지 또한 Random하게 정해주기 위해 위와 같은 과정을 거친다.\n",
    "    # day_gap = 150일 때, low = 5, high = 15\n",
    "    # day_gap = 1일 때, low = 0, high = 1\n",
    "    low_pay_freq = np.trunc((5)/(150-1) * (day_gap - 1))\n",
    "    high_pay_freq = np.trunc((15)/(150-1) * (day_gap - 1))\n",
    "\n",
    "    # Connect Df Generation\n",
    "    if low_freq==high_freq:\n",
    "        number = int(low_freq)\n",
    "    else:\n",
    "        number = np.random.randint(low_freq, high_freq)\n",
    "    ConnectTimeList = np.random.randint(1, 10, size=number)\n",
    "    ConnectDateList = np.random.randint(0, int(day_gap), size=number)\n",
    "    ConnectDateList.sort()\n",
    "\n",
    "    for num in range(number):\n",
    "        ConnectTime = ConnectTimeList[num]\n",
    "        ConnectDateGap = ConnectDateList[num]\n",
    "        ConnectDate = DateCreated + pd.Timedelta(days=ConnectDateGap)\n",
    "        ConnectDate = str(ConnectDate).split()[0]\n",
    "        new_row = (CharacterID, ConnectTime, ConnectDate)\n",
    "        \n",
    "        ConnectDf = ConnectDf.append(pd.Series(new_row), ignore_index=True)\n",
    "\n",
    "\n",
    "    # Payment Df Generation\n",
    "    if low_pay_freq==high_pay_freq:\n",
    "        number = int(low_pay_freq)\n",
    "    else:\n",
    "        number = np.random.randint(low_pay_freq, high_pay_freq)\n",
    "    PayDateList = np.random.randint(0, int(day_gap), size=number)\n",
    "    PayDateList.sort()\n",
    "\n",
    "    for num in range(number):\n",
    "        PayDateGap = PayDateList[num]\n",
    "        PayDate = DateCreated + pd.Timedelta(days=PayDateGap)\n",
    "        PayDate = str(PayDate).split()[0]\n",
    "        Payment = np.random.choice([100, 200, 300, 400, 500])\n",
    "        new_row2 = (CharacterID, Payment, PayDate)\n",
    "\n",
    "        PaymentDf = PaymentDf.append(pd.Series(new_row2), ignore_index=True)\n",
    "    \n",
    "ConnectDf.columns = ['CharacterID','ConnectTime','ConnectDate']\n",
    "ConnectDf.sort_values(by='ConnectDate', ascending=True, inplace = True)\n",
    "ConnectDf.reset_index(inplace=True)\n",
    "ConnectDf.columns = ['ConnectID','CharacterID','ConnectTime','ConnectDate']\n",
    "ConnectDf['ConnectID'] = np.arange(1, len(ConnectDf)+1)\n",
    "\n",
    "PaymentDf.columns = ['CharacterID','Payment','PayDate']\n",
    "PaymentDf.sort_values(by='PayDate', ascending=True, inplace = True)\n",
    "PaymentDf.reset_index(inplace=True)\n",
    "PaymentDf.columns = ['PaymentID','CharacterID','Payment','PayDate']\n",
    "PaymentDf['PaymentID'] = np.arange(1, len(PaymentDf)+1)"
   ]
  },
  {
   "cell_type": "code",
   "execution_count": 51,
   "metadata": {},
   "outputs": [],
   "source": [
    "# 덮어쓰기 되니 실행 X\n",
    "# ConnectDf.to_csv('CharacterConnect.csv', index=False)\n",
    "# PaymentDf.to_csv('CharacterPayment.csv', index=False)"
   ]
  },
  {
   "cell_type": "markdown",
   "metadata": {},
   "source": [
    "만들어진 두 개의 csv 파일은 MySQL Workbench에서 'Table Date Import Wizard' 기능을 이용해 데이터를 MySQL로 불러들이는 데 사용합니다."
   ]
  }
 ],
 "metadata": {
  "interpreter": {
   "hash": "89f8b5fff75b2d8ca621f0b371f1d64751a06b7789195e8887ef7855e4487b82"
  },
  "kernelspec": {
   "display_name": "Python 3.9.7 64-bit",
   "language": "python",
   "name": "python3"
  },
  "language_info": {
   "codemirror_mode": {
    "name": "ipython",
    "version": 3
   },
   "file_extension": ".py",
   "mimetype": "text/x-python",
   "name": "python",
   "nbconvert_exporter": "python",
   "pygments_lexer": "ipython3",
   "version": "3.9.7"
  },
  "orig_nbformat": 4
 },
 "nbformat": 4,
 "nbformat_minor": 2
}
